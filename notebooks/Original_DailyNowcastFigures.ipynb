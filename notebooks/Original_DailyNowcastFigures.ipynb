{
 "metadata": {
  "name": "",
  "signature": "sha256:f07890d9f066b5169eef7ab8243589bdabdc010942e779ff30134fcf5896b256"
 },
 "nbformat": 3,
 "nbformat_minor": 0,
 "worksheets": [
  {
   "cells": [
    {
     "cell_type": "markdown",
     "metadata": {},
     "source": [
      "Template notebook for creation of notebooks that show daily figures\n",
      "from most recent Salish Sea NEMO model real-time (nowcast) run.\n",
      "\n",
      "This is an interim step toward fully automated web publication of\n",
      "analysis and monitoring figures from nowcast runs."
     ]
    },
    {
     "cell_type": "heading",
     "level": 1,
     "metadata": {},
     "source": [
      "How to Use This Template"
     ]
    },
    {
     "cell_type": "markdown",
     "metadata": {},
     "source": [
      "* Create at `MEOPAR/nowcast/` directory tree in your EOAS `public_html/` web space:\n",
      "  ```\n",
      "  $ mkdir -p $HOME/public_html/MEOPAR/nowcast\n",
      "  ```"
     ]
    },
    {
     "cell_type": "markdown",
     "metadata": {},
     "source": [
      "* Copy this notebook into that directory,\n",
      "  start IPython Notebook in that directory,\n",
      "  and open the copy of this notebook."
     ]
    },
    {
     "cell_type": "markdown",
     "metadata": {},
     "source": [
      "* Delete all of the cells above `Set-up`\n",
      "  and replace them with a nice Heading 1 title like:\n",
      "  `Salish Sea NEMO Model Daily Nowcast Figures`."
     ]
    },
    {
     "cell_type": "markdown",
     "metadata": {},
     "source": [
      "* After the day's nowcast run has finished and the results have been downloaded:\n",
      "\n",
      "  * Save a copy of your notebook with a name like `18nov14Figures.ipynb`.\n",
      "  * Open that copy and run all of the cells in the notebook to produce the days plots.\n",
      "  * If there have been new functions added to `nowcast.figures`,\n",
      "    add any necessary set-up code to load the results datasets that they require,\n",
      "    and add cells to produce their plots.\n",
      "  * When you are happy with the day's notebook, save it and exit IPython Notebook.\n",
      "  * Edit the `/home/dlatorne/public_html/MEOPAR/nowcast/index.html` file to add a line\n",
      "    to the top of the `Daily Analysis and Monitoring Figures` section like:\n",
      "    ```\n",
      "    <li><a href=\"http://nbviewer.ipython.org/url/www.eoas.ubc.ca/~dlatorne/MEOPAR/nowcast/17nov14Figures.ipynb\">17nov18</a></li>\n",
      "    ```\n",
      "    replacing `~dlatorne` with your `ocean` userid, and the date (2 places) with the day's date."
     ]
    },
    {
     "cell_type": "heading",
     "level": 1,
     "metadata": {},
     "source": [
      "Set-up"
     ]
    },
    {
     "cell_type": "code",
     "collapsed": false,
     "input": [
      "from __future__ import division\n",
      "\n",
      "import datetime\n",
      "from glob import glob\n",
      "import os\n",
      "\n",
      "from IPython.core.display import HTML\n",
      "import netCDF4 as nc\n",
      "\n",
      "from salishsea_tools.nowcast import figures\n",
      "\n",
      "%matplotlib inline"
     ],
     "language": "python",
     "metadata": {},
     "outputs": [],
     "prompt_number": 1
    },
    {
     "cell_type": "code",
     "collapsed": false,
     "input": [
      "def results_dataset(period, grid, results_dir):\n",
      "    \"\"\"Return the results dataset for period (e.g. 1h or 1d)\n",
      "    and grid (e.g. grid_T, grid_U) from results_dir.\n",
      "    \"\"\"\n",
      "    filename_pattern = 'SalishSea_{period}_*_{grid}.nc'\n",
      "    filepaths = glob(os.path.join(results_dir, filename_pattern.format(period=period, grid=grid)))\n",
      "    return nc.Dataset(filepaths[0])"
     ],
     "language": "python",
     "metadata": {},
     "outputs": [],
     "prompt_number": 2
    },
    {
     "cell_type": "code",
     "collapsed": false,
     "input": [
      "run_date = datetime.date.today()\n",
      "# Results dataset location\n",
      "results_home = '/data/dlatorne/MEOPAR/SalishSea/nowcast/'\n",
      "results_dir = os.path.join(results_home, run_date.strftime('%d%b%y').lower())"
     ],
     "language": "python",
     "metadata": {},
     "outputs": [],
     "prompt_number": 3
    },
    {
     "cell_type": "markdown",
     "metadata": {},
     "source": [
      "Load the results datasets:"
     ]
    },
    {
     "cell_type": "code",
     "collapsed": false,
     "input": [
      "grid_T_hr = results_dataset('1h', 'grid_T', results_dir)"
     ],
     "language": "python",
     "metadata": {},
     "outputs": [],
     "prompt_number": 4
    },
    {
     "cell_type": "markdown",
     "metadata": {},
     "source": [
      "Display the figures:"
     ]
    },
    {
     "cell_type": "code",
     "collapsed": false,
     "input": [
      "HTML('<h2>{:%d%b%y} Figures</h2>'.format(run_date))"
     ],
     "language": "python",
     "metadata": {},
     "outputs": [
      {
       "html": [
        "<h2>17Nov14 Figures</h2>"
       ],
       "metadata": {},
       "output_type": "pyout",
       "prompt_number": 5,
       "text": [
        "<IPython.core.display.HTML at 0x7f05b0b47f50>"
       ]
      }
     ],
     "prompt_number": 5
    },
    {
     "cell_type": "code",
     "collapsed": false,
     "input": [
      "fig = figures.ssh_PtAtkinson(grid_T_hr)"
     ],
     "language": "python",
     "metadata": {},
     "outputs": [
      {
       "metadata": {},
       "output_type": "display_data",
       "png": "[encoded data removed]",
       "text": [
        "<matplotlib.figure.Figure at 0x7f05c9257510>"
       ]
      }
     ],
     "prompt_number": 6
    }
   ],
   "metadata": {}
  }
 ]
}
