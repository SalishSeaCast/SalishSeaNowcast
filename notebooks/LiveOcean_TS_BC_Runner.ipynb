{
 "cells": [
  {
   "cell_type": "markdown",
   "metadata": {},
   "source": [
    "Test LiveOcean BC's for new tidally average single time files"
   ]
  },
  {
   "cell_type": "code",
   "execution_count": 1,
   "metadata": {},
   "outputs": [],
   "source": [
    "import netCDF4 as nc\n",
    "import os\n",
    "from salishsea_tools.LiveOcean_BCs import create_LiveOcean_TS_BCs"
   ]
  },
  {
   "cell_type": "code",
   "execution_count": 2,
   "metadata": {
    "collapsed": true
   },
   "outputs": [],
   "source": [
    "# choose a date\n",
    "ymd = '2017-07-21'\n",
    "date = ymd.replace(\"-\", \"\")"
   ]
  },
  {
   "cell_type": "code",
   "execution_count": 3,
   "metadata": {
    "collapsed": true
   },
   "outputs": [],
   "source": [
    "# make yourself a test directory\n",
    "bc_dir = '/results/forcing/LiveOcean/modified/testdir'\n",
    "os.mkdir(bc_dir)"
   ]
  },
  {
   "cell_type": "code",
   "execution_count": 6,
   "metadata": {
    "scrolled": false
   },
   "outputs": [],
   "source": [
    "ourdatas = create_LiveOcean_TS_BCs(\n",
    "    ymd,\n",
    "    ymd,\n",
    "    '1D',\n",
    "    'daily',\n",
    "    teos_10=True,\n",
    "    nowcast=False,\n",
    "    single_nowcast=True,\n",
    "    basename='single_LO',\n",
    "    bc_dir=bc_dir,\n",
    "    LO_dir='/results/forcing/LiveOcean/downloaded/',\n",
    "    NEMO_BC='/results/nowcast-sys/NEMO-forcing/open_boundaries/west/SalishSea_west_TEOS10.nc'\n",
    ")"
   ]
  },
  {
   "cell_type": "code",
   "execution_count": 7,
   "metadata": {},
   "outputs": [
    {
     "name": "stdout",
     "output_type": "stream",
     "text": [
      "<class 'netCDF4._netCDF4.Dataset'>\n",
      "root group (NETCDF4 data model, file format HDF5):\n",
      "    creator_name: Salish Sea MEOPAR Project Contributors\n",
      "    institution: UBC EOAS\n",
      "    acknowledgements: Live Ocean http://faculty.washington.edu/pmacc/LO/LiveOcean.html\n",
      "    source: http://nbviewer.jupyter.org/urls/bitbucket.org/salishsea/analysis-nancy/raw/tip/notebooks/LiveOcean/Interpolating%20Live%20Ocean%20to%20our%20boundary.ipynb\n",
      "    history: Sat Jul 22 13:18:28 2017: ncks -4 -L4 -O /results/forcing/LiveOcean/modified/testdir/2017-07-21/single_LO_y2017m07d21.nc /results/forcing/LiveOcean/modified/testdir/2017-07-21/single_LO_y2017m07d21.nc\n",
      "Sat Jul 22 13:18:28 2017: ncks --mk_rec_dmn=time_counter -O /results/forcing/LiveOcean/modified/testdir/2017-07-21/single_LO_y2017m07d21.nc /results/forcing/LiveOcean/modified/testdir/2017-07-21/single_LO_y2017m07d21.nc\n",
      "[2017-07-22] File creation.\n",
      "    creator_url: https://salishsea-meopar-docs.readthedocs.org/\n",
      "    summary: Temperature and Salinity from the Live Ocean model interpolated in space onto the Salish Sea NEMO Model western open boundary.\n",
      "    institution_fullname: Earth, Ocean & Atmospheric Sciences, University of British Columbia\n",
      "    creator_email: nsoontie@eos.ubc.ca\n",
      "    NCO: 4.4.2\n",
      "    dimensions(sizes): deptht(40), yb(10), xbT(87), time_counter(1)\n",
      "    variables(dimensions): float32 \u001b[4mdeptht\u001b[0m(deptht), float32 \u001b[4mnav_lat\u001b[0m(yb,xbT), float32 \u001b[4mnav_lon\u001b[0m(yb,xbT), int64 \u001b[4mtime_counter\u001b[0m(time_counter), float64 \u001b[4mvosaline\u001b[0m(time_counter,deptht,yb,xbT), float64 \u001b[4mvotemper\u001b[0m(time_counter,deptht,yb,xbT)\n",
      "    groups: \n",
      "\n"
     ]
    }
   ],
   "source": [
    "ourdata = nc.Dataset(ourdatas[0])\n",
    "print(ourdata)"
   ]
  },
  {
   "cell_type": "code",
   "execution_count": 8,
   "metadata": {},
   "outputs": [
    {
     "name": "stdout",
     "output_type": "stream",
     "text": [
      "<class 'netCDF4._netCDF4.Variable'>\n",
      "int64 time_counter(time_counter)\n",
      "    units: days since 2017-07-21 00:00:00\n",
      "    time_origin: 2017-07-21 00:00:00\n",
      "    long_name: Time axis\n",
      "unlimited dimensions: time_counter\n",
      "current shape = (1,)\n",
      "filling on, default _FillValue of -9223372036854775806 used\n",
      "\n",
      "[0]\n"
     ]
    }
   ],
   "source": [
    "print(ourdata.variables['time_counter'])\n",
    "print(ourdata.variables['time_counter'][:])"
   ]
  },
  {
   "cell_type": "code",
   "execution_count": 10,
   "metadata": {},
   "outputs": [],
   "source": [
    "livedata = nc.Dataset(os.path.join('/results/forcing/LiveOcean/downloaded',date,'low_passed_UBC.nc'))"
   ]
  },
  {
   "cell_type": "code",
   "execution_count": 11,
   "metadata": {},
   "outputs": [
    {
     "name": "stdout",
     "output_type": "stream",
     "text": [
      "<class 'netCDF4._netCDF4.Dataset'>\n",
      "root group (NETCDF4 data model, file format HDF5):\n",
      "    file: /pmr1/parker/LiveOcean_roms/output/cascadia1_base_lobio1/f2017.07.20/ocean_his_0002.nc\n",
      "    format: netCDF-3 64bit offset file\n",
      "    Conventions: CF-1.4\n",
      "    type: ROMS/TOMS history file\n",
      "    title: First LiveOcean input file\n",
      "    rst_file: /pmr1/parker/LiveOcean_roms/output/cascadia1_base_lobio1/f2017.07.20/ocean_rst.nc\n",
      "    his_base: /pmr1/parker/LiveOcean_roms/output/cascadia1_base_lobio1/f2017.07.20/ocean_his\n",
      "    grd_file: /fjdata1/parker/LiveOcean_data/grids/cascadia1/grid.nc\n",
      "    ini_file: /pmr1/parker/LiveOcean_roms/output/cascadia1_base_lobio1/f2017.07.19/ocean_his_0025.nc\n",
      "    frc_file_01: /fjdata1/parker/LiveOcean_output/cascadia1_base/f2017.07.20/tide/tides.nc\n",
      "    frc_file_02: /fjdata1/parker/LiveOcean_output/cascadia1_base/f2017.07.20/atm/lwrad_down.nc\n",
      "    frc_file_03: /fjdata1/parker/LiveOcean_output/cascadia1_base/f2017.07.20/atm/Pair.nc\n",
      "    frc_file_04: /fjdata1/parker/LiveOcean_output/cascadia1_base/f2017.07.20/atm/Qair.nc\n",
      "    frc_file_05: /fjdata1/parker/LiveOcean_output/cascadia1_base/f2017.07.20/atm/rain.nc\n",
      "    frc_file_06: /fjdata1/parker/LiveOcean_output/cascadia1_base/f2017.07.20/atm/swrad.nc\n",
      "    frc_file_07: /fjdata1/parker/LiveOcean_output/cascadia1_base/f2017.07.20/atm/Tair.nc\n",
      "    frc_file_08: /fjdata1/parker/LiveOcean_output/cascadia1_base/f2017.07.20/atm/Uwind.nc\n",
      "    frc_file_09: /fjdata1/parker/LiveOcean_output/cascadia1_base/f2017.07.20/atm/Vwind.nc\n",
      "    bry_file: /fjdata1/parker/LiveOcean_output/cascadia1_base/f2017.07.20/ocn1/ocean_bry_bio.nc\n",
      "    script_file: \n",
      "    bpar_file: /pmr1/parker/LiveOcean_roms/output/cascadia1_base_lobio1/f2017.07.20/npzd2o_Banas.in\n",
      "    NLM_LBC: \n",
      "EDGE:           WEST   SOUTH  EAST   NORTH  \n",
      "zeta:           Cha    Cha    Clo    Clo    \n",
      "ubar:           Fla    Fla    Clo    Clo    \n",
      "vbar:           Fla    Fla    Clo    Clo    \n",
      "u:              RadNud RadNud Clo    Clo    \n",
      "v:              RadNud RadNud Clo    Clo    \n",
      "temp:           RadNud RadNud Clo    Clo    \n",
      "salt:           RadNud RadNud Clo    Clo    \n",
      "NO3:            RadNud RadNud Clo    Clo    \n",
      "phytoplankton:  RadNud RadNud Clo    Clo    \n",
      "zooplankton:    RadNud RadNud Clo    Clo    \n",
      "detritus:       RadNud RadNud Clo    Clo    \n",
      "Ldetritus:      RadNud RadNud Clo    Clo    \n",
      "oxygen:         RadNud RadNud Clo    Clo    \n",
      "TIC:            RadNud RadNud Clo    Clo    \n",
      "alkalinity:     RadNud RadNud Clo    Clo    \n",
      "CaCO3:          Gra    Gra    Clo    Clo    \n",
      "tke:            RadNud RadNud Clo    Clo\n",
      "    svn_url: https://www.myroms.org/svn/src/trunk\n",
      "    svn_rev: exported\n",
      "    code_dir: /pmr1/parker/LiveOcean_roms/ROMS_WOAC\n",
      "    header_dir: /pmr1/parker/LiveOcean_roms/makefiles/lobio1\n",
      "    header_file: lobio1.h\n",
      "    os: Linux\n",
      "    cpu: x86_64\n",
      "    compiler_system: ifort\n",
      "    compiler_command: /cm/shared/local/openmpi-ifort/bin/mpif90\n",
      "    compiler_flags: -heap-arrays -fp-model precise -ip -O3 -free -free -free\n",
      "    tiling: 008x018\n",
      "    history: Fri Jul 21 13:58:50 2017: ncks -4 -L4 -O /results/forcing/LiveOcean/downloaded/20170721/low_passed_UBC.nc /results/forcing/LiveOcean/downloaded/20170721/low_passed_UBC.nc\n",
      "ROMS/TOMS, Version 3.7, Thursday - July 20, 2017 -  4:00:36 AM\n",
      "    ana_file: ROMS/Functionals/ana_btflux.h, /pmr1/parker/LiveOcean_roms/makefiles/lobio1/ana_nudgcoef.h, ROMS/Functionals/ana_stflux.h\n",
      "    bio_file: ROMS/Nonlinear/Biology/npzd2o_banas.h\n",
      "    CPP_options: LOBIO1, ADD_FSOBC, ADD_M2OBC, ANA_BPFLUX, ANA_BSFLUX, ANA_BTFLUX, ANA_SPFLUX, ANA_SSFLUX, ASSUMED_SHAPE, BULK_FLUXES, CANUTO_A DJ_GRADPS, DOUBLE_PRECISION, GLS_MIXING, LONGWAVE_OUT, MASKING, MIX_GEO_TS, MPI, NONLINEAR, NONLIN_EOS, N2S2_HORAVG, POWER_LAW, PROFILE, K_GSCHEME, RADIATION_2D, !RST_SINGLE, SALINITY, SOLAR_SOURCE, SOLVE3D, SPLINES, SPHERICAL, SSH_TIDES, TS_MPDATA, TS_DIF2, UV_ADV, UV_COR, UV_U3HADVECTION, UV_C4VADVECTION, UV_QDRAG, UV_TIDES, VAR_RHO_2D\n",
      "    NCO: 4.4.2\n",
      "    dimensions(sizes): ocean_time(1), s_rho(40), eta_rho(31), xi_rho(26), eta_u(31), xi_u(25), eta_v(30), xi_v(26)\n",
      "    variables(dimensions): float32 \u001b[4mCaCO3\u001b[0m(ocean_time,s_rho,eta_rho,xi_rho), float64 \u001b[4mCs_r\u001b[0m(s_rho), float32 \u001b[4mLdetritus\u001b[0m(ocean_time,s_rho,eta_rho,xi_rho), float32 \u001b[4mNO3\u001b[0m(ocean_time,s_rho,eta_rho,xi_rho), float32 \u001b[4mTIC\u001b[0m(ocean_time,s_rho,eta_rho,xi_rho), int32 \u001b[4mVtransform\u001b[0m(), float32 \u001b[4malkalinity\u001b[0m(ocean_time,s_rho,eta_rho,xi_rho), float32 \u001b[4mdetritus\u001b[0m(ocean_time,s_rho,eta_rho,xi_rho), float64 \u001b[4mh\u001b[0m(eta_rho,xi_rho), float64 \u001b[4mhc\u001b[0m(), float64 \u001b[4mlat_rho\u001b[0m(eta_rho,xi_rho), float64 \u001b[4mlat_u\u001b[0m(eta_,xi_), float64 \u001b[4mlat_v\u001b[0m(eta_v,xi_v), float64 \u001b[4mlon_rho\u001b[0m(eta_rho,xi_rho), float64 \u001b[4mlon_u\u001b[0m(eta_,xi_), float64 \u001b[4mlon_v\u001b[0m(eta_v,xi_v), float64 \u001b[4mmask_rho\u001b[0m(eta_rho,xi_rho), float64 \u001b[4mmask_u\u001b[0m(eta_,xi_), float64 \u001b[4mmask_v\u001b[0m(eta_v,xi_v), float64 \u001b[4mocean_time\u001b[0m(ocean_time), float32 \u001b[4moxygen\u001b[0m(ocean_time,s_rho,eta_rho,xi_rho), float32 \u001b[4mphytoplankton\u001b[0m(ocean_time,s_rho,eta_rho,xi_rho), float64 \u001b[4mpm\u001b[0m(eta_rho,xi_rho), float64 \u001b[4mpn\u001b[0m(eta_rho,xi_rho), float32 \u001b[4mrho\u001b[0m(ocean_time,s_rho,eta_rho,xi_rho), float64 \u001b[4ms_rho\u001b[0m(s_rho), float32 \u001b[4msalt\u001b[0m(ocean_time,s_rho,eta_rho,xi_rho), float32 \u001b[4mtemp\u001b[0m(ocean_time,s_rho,eta_rho,xi_rho), float32 \u001b[4mu\u001b[0m(ocean_time,s_rho,eta_,xi_), float32 \u001b[4mv\u001b[0m(ocean_time,s_rho,eta_v,xi_v), float32 \u001b[4mzeta\u001b[0m(ocean_time,eta_rho,xi_rho), float32 \u001b[4mzooplankton\u001b[0m(ocean_time,s_rho,eta_rho,xi_rho)\n",
      "    groups: \n",
      "\n"
     ]
    }
   ],
   "source": [
    "print(livedata)"
   ]
  },
  {
   "cell_type": "markdown",
   "metadata": {},
   "source": [
    "Don't forget to remove your test files and directory"
   ]
  }
 ],
 "metadata": {
  "anaconda-cloud": {},
  "kernelspec": {
   "display_name": "Python [conda env:py3]",
   "language": "python",
   "name": "conda-env-py3-py"
  },
  "language_info": {
   "codemirror_mode": {
    "name": "ipython",
    "version": 3
   },
   "file_extension": ".py",
   "mimetype": "text/x-python",
   "name": "python",
   "nbconvert_exporter": "python",
   "pygments_lexer": "ipython3",
   "version": "3.5.2"
  },
  "toc": {
   "colors": {
    "hover_highlight": "#DAA520",
    "running_highlight": "#FF0000",
    "selected_highlight": "#FFD700"
   },
   "moveMenuLeft": true,
   "nav_menu": {
    "height": "12px",
    "width": "252px"
   },
   "navigate_menu": true,
   "number_sections": true,
   "sideBar": true,
   "threshold": 4,
   "toc_cell": false,
   "toc_section_display": "block",
   "toc_window_display": false,
   "widenNotebook": false
  }
 },
 "nbformat": 4,
 "nbformat_minor": 2
}
