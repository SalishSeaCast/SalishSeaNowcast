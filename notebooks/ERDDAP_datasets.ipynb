{
 "cells": [
  {
   "cell_type": "markdown",
   "metadata": {},
   "source": [
    "# Building ERDDAP Datasets\n",
    "\n",
    "This notebook documents the process of creating XML fragments\n",
    "for nowcast system run results files\n",
    "for inclusion in `/opt/tomcat/content/erddap/datasets.xml`\n",
    "on the `skookum` ERDDAP server instance.\n",
    "\n",
    "The contents are a combination of:\n",
    "\n",
    "* instructions for using the\n",
    "`GenerateDatasetsXml.sh` and `DasDds.sh` tools found in the\n",
    "`/opt/tomcat/webapps/erddap/WEB-INF/` directory\n",
    "* instructions for forcing the server to update the datasets collection\n",
    "via the `/results/erddap/flags/` directory\n",
    "* code and metadata to transform the output of `GenerateDatasetsXml.sh`\n",
    "into XML fragments that are ready for inclusion in `/opt/tomcat/content/erddap/datasets.xml`"
   ]
  },
  {
   "cell_type": "code",
   "execution_count": 3,
   "metadata": {
    "collapsed": true
   },
   "outputs": [],
   "source": [
    "from lxml import etree"
   ]
  },
  {
   "cell_type": "markdown",
   "metadata": {},
   "source": [
    "**NOTE**\n",
    "\n",
    "The next cell mounts the `/results` filesystem on `skookum` locally.\n",
    "It is intended for use if when this notebook is run on a laptop \n",
    "or other non-Waterhole machine that has `sshfs` installed \n",
    "and a mount point for `/results` available in its root filesystem.\n",
    "\n",
    "Don't execute the cell if that doesn't describe your situation."
   ]
  },
  {
   "cell_type": "code",
   "execution_count": 4,
   "metadata": {
    "collapsed": true
   },
   "outputs": [],
   "source": [
    "!sshfs skookum:/results /results"
   ]
  },
  {
   "cell_type": "markdown",
   "metadata": {},
   "source": []
  },
  {
   "cell_type": "code",
   "execution_count": 2,
   "metadata": {
    "collapsed": false
   },
   "outputs": [],
   "source": [
    "metadata = {\n",
    "    # For all datasets:\n",
    "    'coverage_content_type': 'modelResult',\n",
    "    'infoUrl': 'http://salishsea-meopar-tools.readthedocs.org/en/latest/results_server/index.html#salish-sea-model-results',\n",
    "    'institution': 'UBC EOAS',\n",
    "    'institution_fulname': 'Earth, Ocean &amp; Atmospheric Sciences, University of British Columbia',\n",
    "    'license': '''The Salish Sea MEOPAR NEMO model results are copyright 2013-2016\n",
    "by the Salish Sea MEOPAR Project Contributors and The University of British Columbia.\n",
    "\n",
    "They are licensed under the Apache License, Version 2.0. http://www.apache.org/licenses/LICENSE-2.0''',\n",
    "    'project': 'Salish Sea MEOPAR NEMO Model',\n",
    "    'creator_name': 'Salish Sea MEOPAR Project Contributors',\n",
    "    'creator_email': 'sallen@eos.ubc.ca',\n",
    "    'creator_url': 'http://salishsea-meopar-docs.readthedocs.org/',\n",
    "    'acknowledgement': 'MEOPAR, ONC, Compute Canada',\n",
    "    'drawLandMask': 'over',\n",
    "    # Details of individual datasets:\n",
    "    # (keys are datasetIDs)\n",
    "    'ubcSSnPointAtkinsonSSH15m': {\n",
    "        \n",
    "    },\n",
    "    \n",
    "    'ubcSSn3dvVelocity1h': {\n",
    "        'title': 'Nowcast, Salish Sea, 3d u Velocity Field, Hourly',\n",
    "        'summary': '''3d zonal (u) component velocity field values averaged over 1 hour intervals\n",
    "from Salish Sea NEMO model nowcast runs. The values are calculated for the entire model grid\n",
    "that includes the Strait of Juan de Fuca, the Strait of Georgia, Puget Sound,\n",
    "and Johnstone Strait on the coasts of Washington State and British Columbia.''',\n",
    "    },\n",
    "    \n",
    "    'ubcSSn3dvVelocity1h': {\n",
    "        'title': 'Nowcast, Salish Sea, 3d v Velocity Field, Hourly',\n",
    "        'summary': '''3d meridional (v) component velocity field values averaged over 1 hour intervals\n",
    "from Salish Sea NEMO model nowcast runs. The values are calculated for the entire model grid\n",
    "that includes the Strait of Juan de Fuca, the Strait of Georgia, Puget Sound,\n",
    "and Johnstone Strait on the coasts of Washington State and British Columbia.''',\n",
    "    },\n",
    "    \n",
    "    'ubcSSn3dwVelocity1h': {\n",
    "        'title': 'Nowcast, Salish Sea, 3d w Velocity Field, Hourly',\n",
    "        'summary': '''3d vertical (w) component velocity field values averaged over 1 hour intervals\n",
    "from Salish Sea NEMO model nowcast runs. The values are calculated for the entire model grid\n",
    "that includes the Strait of Juan de Fuca, the Strait of Georgia, Puget Sound,\n",
    "and Johnstone Strait on the coasts of Washington State and British Columbia.''',\n",
    "    },\n",
    "}"
   ]
  },
  {
   "cell_type": "code",
   "execution_count": 24,
   "metadata": {
    "collapsed": true
   },
   "outputs": [],
   "source": [
    "tree = etree.parse('/results/erddap/logs/GenerateDatasetsXml.out')\n",
    "root = tree.getroot()"
   ]
  },
  {
   "cell_type": "code",
   "execution_count": 25,
   "metadata": {
    "collapsed": false
   },
   "outputs": [],
   "source": [
    "def print_tree(root):\n",
    "    print(etree.tostring(root, pretty_print=True).decode('ascii'))"
   ]
  },
  {
   "cell_type": "code",
   "execution_count": 26,
   "metadata": {
    "collapsed": false
   },
   "outputs": [
    {
     "name": "stdout",
     "output_type": "stream",
     "text": [
      "<dataset type=\"EDDGridFromNcFiles\" datasetID=\"nowcast_faa8_4044_5dbf\" active=\"true\">\n",
      "    <reloadEveryNMinutes>60</reloadEveryNMinutes>\n",
      "    <updateEveryNMillis>10000</updateEveryNMillis>\n",
      "    <fileDir>/results/SalishSea/nowcast/</fileDir>\n",
      "    <recursive>true</recursive>\n",
      "    <fileNameRegex>.*SalishSea_1h_\\d{8}_\\d{8}_grid_W\\.nc</fileNameRegex>\n",
      "    <metadataFrom>last</metadataFrom>\n",
      "    <matchAxisNDigits>20</matchAxisNDigits>\n",
      "    <fileTableInMemory>false</fileTableInMemory>\n",
      "    <accessibleViaFiles>false</accessibleViaFiles>\n",
      "    <!-- sourceAttributes>\n",
      "        <att name=\"Conventions\">CF-1.1</att>\n",
      "        <att name=\"file_name\">SalishSea_1h_20160121_20160121_grid_W.nc</att>\n",
      "        <att name=\"history\">Thu Jan 21 14:33:12 2016: ncks -4 -L4 -O SalishSea_1h_20160121_20160121_grid_W.nc SalishSea_1h_20160121_20160121_grid_W.nc</att>\n",
      "        <att name=\"NCO\">4.4.2</att>\n",
      "        <att name=\"production\">An IPSL model</att>\n",
      "        <att name=\"TimeStamp\">21/01/2016 14:20:02 -0800</att>\n",
      "    </sourceAttributes -->\n",
      "    <addAttributes>\n",
      "        <att name=\"cdm_data_type\">Grid</att>\n",
      "        <att name=\"Conventions\">CF-1.6, COARDS, ACDD-1.3</att>\n",
      "        <att name=\"infoUrl\">???</att>\n",
      "        <att name=\"institution\">???</att>\n",
      "        <att name=\"keywords\">currents, data, depthw, local, ocean, ocean vertical velocity, source, time_counter, velocity, vertical, vovecrtz</att>\n",
      "        <att name=\"license\">[standard]</att>\n",
      "        <att name=\"standard_name_vocabulary\">CF Standard Name Table v29</att>\n",
      "        <att name=\"summary\">Data from a local source.</att>\n",
      "        <att name=\"title\">Data from a local source.</att>\n",
      "    </addAttributes>\n",
      "    <axisVariable>\n",
      "        <sourceName>time_counter</sourceName>\n",
      "        <destinationName>time</destinationName>\n",
      "        <!-- sourceAttributes>\n",
      "            <att name=\"_ChunkSize\" type=\"int\">1</att>\n",
      "            <att name=\"axis\">T</att>\n",
      "            <att name=\"bounds\">time_counter_bnds</att>\n",
      "            <att name=\"calendar\">gregorian</att>\n",
      "            <att name=\"long_name\">Time axis</att>\n",
      "            <att name=\"standard_name\">time</att>\n",
      "            <att name=\"time_origin\"> 2014-SEP-10 00:00:00</att>\n",
      "            <att name=\"title\">Time</att>\n",
      "            <att name=\"units\">seconds since 2014-09-10 00:00:00</att>\n",
      "        </sourceAttributes -->\n",
      "        <addAttributes>\n",
      "            <att name=\"_ChunkSize\">null</att>\n",
      "            <att name=\"bounds\">null</att>\n",
      "            <att name=\"ioos_category\">Statistics</att>\n",
      "        </addAttributes>\n",
      "    </axisVariable>\n",
      "    <axisVariable>\n",
      "        <sourceName>depthw</sourceName>\n",
      "        <destinationName>depth</destinationName>\n",
      "        <!-- sourceAttributes>\n",
      "            <att name=\"_ChunkSize\" type=\"int\">40</att>\n",
      "            <att name=\"axis\">Z</att>\n",
      "            <att name=\"long_name\">Vertical W levels</att>\n",
      "            <att name=\"positive\">down</att>\n",
      "            <att name=\"standard_name\">model_level_number</att>\n",
      "            <att name=\"title\">depthw</att>\n",
      "            <att name=\"units\">m</att>\n",
      "            <att name=\"valid_max\" type=\"float\">428.0</att>\n",
      "            <att name=\"valid_min\" type=\"float\">0.0</att>\n",
      "        </sourceAttributes -->\n",
      "        <addAttributes>\n",
      "            <att name=\"_ChunkSize\">null</att>\n",
      "            <att name=\"ioos_category\">Location</att>\n",
      "            <att name=\"standard_name\">depth</att>\n",
      "        </addAttributes>\n",
      "    </axisVariable>\n",
      "    <axisVariable>\n",
      "        <sourceName>y</sourceName>\n",
      "        <destinationName>y</destinationName>\n",
      "        <!-- sourceAttributes>\n",
      "        </sourceAttributes -->\n",
      "        <addAttributes>\n",
      "            <att name=\"ioos_category\">Location</att>\n",
      "            <att name=\"long_name\">Y</att>\n",
      "        </addAttributes>\n",
      "    </axisVariable>\n",
      "    <axisVariable>\n",
      "        <sourceName>x</sourceName>\n",
      "        <destinationName>x</destinationName>\n",
      "        <!-- sourceAttributes>\n",
      "        </sourceAttributes -->\n",
      "        <addAttributes>\n",
      "            <att name=\"ioos_category\">Location</att>\n",
      "            <att name=\"long_name\">X</att>\n",
      "        </addAttributes>\n",
      "    </axisVariable>\n",
      "    <dataVariable>\n",
      "        <sourceName>vovecrtz</sourceName>\n",
      "        <destinationName>vovecrtz</destinationName>\n",
      "        <dataType>float</dataType>\n",
      "        <!-- sourceAttributes>\n",
      "            <att name=\"_ChunkSize\" type=\"intList\">1 12 285 126</att>\n",
      "            <att name=\"_FillValue\" type=\"float\">9.96921E36</att>\n",
      "            <att name=\"coordinates\">time_counter depthw nav_lat nav_lon</att>\n",
      "            <att name=\"interval_operation\" type=\"float\">10.0</att>\n",
      "            <att name=\"interval_write\" type=\"float\">3600.0</att>\n",
      "            <att name=\"long_name\">ocean vertical velocity</att>\n",
      "            <att name=\"online_operation\">ave(X)</att>\n",
      "            <att name=\"standard_name\">ocean vertical velocity</att>\n",
      "            <att name=\"units\">m/s</att>\n",
      "        </sourceAttributes -->\n",
      "        <addAttributes>\n",
      "            <att name=\"_ChunkSize\">null</att>\n",
      "            <att name=\"coordinates\">null</att>\n",
      "            <att name=\"ioos_category\">Currents</att>\n",
      "        </addAttributes>\n",
      "    </dataVariable>\n",
      "</dataset>\n",
      "\n"
     ]
    }
   ],
   "source": [
    "print_tree(root)"
   ]
  },
  {
   "cell_type": "code",
   "execution_count": 27,
   "metadata": {
    "collapsed": false
   },
   "outputs": [
    {
     "name": "stdout",
     "output_type": "stream",
     "text": [
      "dataset\n",
      "nowcast_faa8_4044_5dbf\n",
      "ubcSSn3dwVelocity1h\n"
     ]
    }
   ],
   "source": [
    "print(root.tag)\n",
    "print(root.get('datasetID'))\n",
    "datasetID = 'ubcSSn3dwVelocity1h'\n",
    "root.attrib['datasetID'] = datasetID\n",
    "print(root.get('datasetID'))"
   ]
  },
  {
   "cell_type": "code",
   "execution_count": null,
   "metadata": {
    "collapsed": true
   },
   "outputs": [],
   "source": []
  },
  {
   "cell_type": "code",
   "execution_count": null,
   "metadata": {
    "collapsed": true
   },
   "outputs": [],
   "source": []
  }
 ],
 "metadata": {
  "kernelspec": {
   "display_name": "Python 3",
   "language": "python",
   "name": "python3"
  },
  "language_info": {
   "codemirror_mode": {
    "name": "ipython",
    "version": 3
   },
   "file_extension": ".py",
   "mimetype": "text/x-python",
   "name": "python",
   "nbconvert_exporter": "python",
   "pygments_lexer": "ipython3",
   "version": "3.5.1"
  }
 },
 "nbformat": 4,
 "nbformat_minor": 0
}
