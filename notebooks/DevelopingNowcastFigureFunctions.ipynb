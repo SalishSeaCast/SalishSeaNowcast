{
 "metadata": {
  "name": "",
  "signature": "sha256:b6e27ca4dc541642431ff456da8c88a4d07f19638f541af3ad784feaf2116b2f"
 },
 "nbformat": 3,
 "nbformat_minor": 0,
 "worksheets": [
  {
   "cells": [
    {
     "cell_type": "markdown",
     "metadata": {},
     "source": [
      "This notebook describes the recommended process for development of\n",
      "functions for the `salishsea_tools.nowcast.figures` module,\n",
      "and provides an example of development of such a function."
     ]
    },
    {
     "cell_type": "code",
     "collapsed": false,
     "input": [
      "from __future__ import division\n",
      "\n",
      "import os\n",
      "\n",
      "import matplotlib.pyplot as plt\n",
      "import netCDF4 as nc\n",
      "\n",
      "from salishsea_tools import nc_tools\n",
      "\n",
      "%matplotlib inline"
     ],
     "language": "python",
     "metadata": {},
     "outputs": [],
     "prompt_number": 1
    },
    {
     "cell_type": "heading",
     "level": 2,
     "metadata": {},
     "source": [
      "The Big Goal"
     ]
    },
    {
     "cell_type": "markdown",
     "metadata": {},
     "source": [
      "The big goal of this notebook is to define conventions for functions\n",
      "that will live in `salishsea_tools.nowcast.figures` and be called\n",
      "by automation code to produce daily plots showing features of the results\n",
      "of real-time (nowcast and forecast) run of the SalishSeaCast NEMO model.\n",
      "\n",
      "Let's start with a simple example objective:\n",
      "\n",
      "an hourly plot of model sea surface height (ssh) at Pt. Atkinson\n",
      "\n",
      "To get that plot on a daily basis we need to provide a function\n",
      "that takes the hourly `grid_T` results dataset from NEMO\n",
      "and returns a Matplotlib `figure` object."
     ]
    },
    {
     "cell_type": "markdown",
     "metadata": {},
     "source": [
      "So,\n",
      "we'll have a function defintion like:\n",
      "```python\n",
      "def ssh_PtAtkinson(grid_T, bathy=None, figsize=(12, 4)):\n",
      "    \"\"\"Return a figure containing a plot of hourly sea surface height at Pt. Atkinson.\n",
      "    \n",
      "    :arg grid_T: Hourly tracer results dataset from NEMO.\n",
      "    :type grid_T: :class:`netCDF4.Dataset`\n",
      "    \n",
      "    :arg bathy: Bathymetry dataset for the SalishSeaCast NEMO model.\n",
      "    :type bathy: :class:`netCDF4.Dataset`\n",
      "    \n",
      "    :arg figsize: Figure size (width, height) in inches.\n",
      "    :type figsize: 2-tuple\n",
      "    \n",
      "    :returns: Matplotlib figure object\n",
      "    \"\"\"\n",
      "    fig, ax = plt.subplots(1, 1, figsize=figsize)\n",
      "    ...\n",
      "    return fig\n",
      "```"
     ]
    },
    {
     "cell_type": "markdown",
     "metadata": {},
     "source": [
      "that the automation code can use like:\n",
      "```python\n",
      "from salishsea_tools.nowcast import figures\n",
      "\n",
      "grid_T = nc.Dataset('nowcast/28oct14/SalishSea_1h_20141028_20141028_grid_T.nc')\n",
      "fig = figures.ssh_PtAtkinson(grid_T)\n",
      "\n",
      "# Render to figure object for display on a web page\n",
      "```"
     ]
    },
    {
     "cell_type": "markdown",
     "metadata": {},
     "source": [
      "Of course,\n",
      "it's not just the automation code that can use the `salishsea_tools.nowcast.figures` functions,\n",
      "you and your colleagues can use them in exactly the same way in your notebooks."
     ]
    },
    {
     "cell_type": "heading",
     "level": 2,
     "metadata": {},
     "source": [
      "Conventions"
     ]
    },
    {
     "cell_type": "markdown",
     "metadata": {},
     "source": [
      "There are a bunch of conventions implied in our function definition fragment:\n",
      "```python\n",
      "def ssh_PtAtkinson(grid_T, bathy=None, figsize=(12, 4)):\n",
      "    \"\"\"Return a figure containing a plot of hourly sea surface height at Pt. Atkinson.\n",
      "    \n",
      "    :arg grid_T: Hourly tracer results dataset from NEMO.\n",
      "    :type grid_T: :class:`netCDF4.Dataset`\n",
      "    \n",
      "    :arg bathy: Bathymetry dataset for the SalishSeaCast NEMO model.\n",
      "    :type bathy: :class:`netCDF4.Dataset`\n",
      "    \n",
      "    :arg figsize: Figure size (width, height) in inches.\n",
      "    :type figsize: 2-tuple\n",
      "    \n",
      "    :returns: Matplotlib figure object\n",
      "    \"\"\"\n",
      "    fig, ax = plt.subplots(1, 1, figsize=figsize)\n",
      "    ...\n",
      "    return fig\n",
      "```"
     ]
    },
    {
     "cell_type": "markdown",
     "metadata": {},
     "source": [
      "* It's probably too early to say anything about a function naming convention,\n",
      "  other than the function names don't need to contain words like `plot`, \n",
      "  `figure`,\n",
      "  `nowcast`,\n",
      "  `realtime`,\n",
      "  or `forecast`\n",
      "  because their package and module context implies those things."
     ]
    },
    {
     "cell_type": "markdown",
     "metadata": {},
     "source": [
      "* We'll pass `netCDF4.Dataset` objects (like `grid_T`) into the functions\n",
      "  rather than passing in file names because the chances are good that\n",
      "  a given dataset (like bathymetry) will be used in more than one function.\n",
      "  By making it the caller's job to load the dataset we avoid\n",
      "  having multiple copies of it in memory,\n",
      "  and the repeatedly doing the comparitively slow process of reading the dataset from disk."
     ]
    },
    {
     "cell_type": "markdown",
     "metadata": {},
     "source": [
      "* Since many of our functions will need to use the model bathymetry\n",
      "  we'll include a slot for it as the first keyword argument to the function\n",
      "  but we'll set its default value to `None` so that we don't have to\n",
      "  deal with it in functions like `ssh_PtAtkinson()` that don't use it."
     ]
    },
    {
     "cell_type": "markdown",
     "metadata": {},
     "source": [
      "* Including `figsize` as an argument with a default value\n",
      "  allows the caller to adjust the size of the figure to their needs.\n",
      "  Please choose an aspect ratio for `figsize` that is appropriate to\n",
      "  the information in the figure;\n",
      "  it serves as a hint for other users."
     ]
    },
    {
     "cell_type": "markdown",
     "metadata": {},
     "source": [
      "* Include a docstring in the function and use the Sphinx `:arg ...:`, \n",
      "  `:type ...:`,\n",
      "  and `:returns:` markup\n",
      "  (see the Sphinx [Info Field Lists](http://sphinx-doc.org/domains.html#info-field-lists) documentation)\n",
      "  so that the nice looking documentation like \n",
      "  [this](http://salishsea-meopar-tools.readthedocs.org/en/latest/SalishSeaTools/salishsea-tools.html#module-viz_tools)\n",
      "  will be generated automatically."
     ]
    },
    {
     "cell_type": "markdown",
     "metadata": {},
     "source": [
      "* Use the Matplotlib object interface,\n",
      "  starting with a call to `plt.subplots()` to create `figure` and `axes` instances.\n",
      "  Most of your plotting commands will be `axes` method calls\n",
      "  (e.g. `ax.plot(...)`),\n",
      "  with a few `figure` method calls,\n",
      "  and rare `plt` method calls.\n",
      "  That minimized global state and side-effects that may interfere with other plot functions."
     ]
    },
    {
     "cell_type": "markdown",
     "metadata": {},
     "source": [
      "* Return the `figure` object so that the automation code can render it appropriately\n",
      "  for inclusion in a web page.\n",
      "  If you,\n",
      "  or someone else,\n",
      "  calls your function in a notebook it will render automatically,\n",
      "  in the notebook if `%matplotlib inline` has been set,\n",
      "  or in a separate window otherwise."
     ]
    },
    {
     "cell_type": "heading",
     "level": 2,
     "metadata": {},
     "source": [
      "Developing a New `nowcast.figures` Function"
     ]
    },
    {
     "cell_type": "markdown",
     "metadata": {},
     "source": [
      "The recommended workflow to develop a new `nowcast.figures` function is:\n",
      "\n",
      "1. Create the function in a notebook cell.\n",
      "\n",
      "2. Create 1 or more notebook cell(s) containing code\n",
      "to prepare the inputs for the function,\n",
      "and call the function;\n",
      "i.e. to drive the function.\n",
      "\n",
      "3. Iteratively test and edit the cells in steps 1 and 2\n",
      "until the function produces the plot that you want.\n",
      "\n",
      "4. Export the function to `nowcast.figures`.\n",
      "\n",
      "5. Use your favourite code editor to do any necessary clean-up in `nowcast.figures`.\n",
      "\n",
      "6. Commit and push your `nowcast.figures` changes."
     ]
    },
    {
     "cell_type": "heading",
     "level": 3,
     "metadata": {},
     "source": [
      "Function Definition"
     ]
    },
    {
     "cell_type": "code",
     "collapsed": false,
     "input": [
      "#%%writefile -a figures.py\n",
      "\n",
      "def ssh_PtAtkinson(grid_T, bathy=None, figsize=(12, 4)):\n",
      "    \"\"\"Return a figure containing a plot of hourly sea surface height at Pt. Atkinson.\n",
      "    \n",
      "    :arg grid_T: Hourly tracer results dataset from NEMO.\n",
      "    :type grid_T: :class:`netCDF4.Dataset`\n",
      "    \n",
      "    :arg bathy: Bathymetry dataset for the SalishSeaCast NEMO model.\n",
      "    :type bathy: :class:`netCDF4.Dataset`\n",
      "    \n",
      "    :arg figsize: Figure size (width, height) in inches.\n",
      "    :type figsize: 2-tuple\n",
      "    \n",
      "    :returns: Matplotlib figure object\n",
      "    \"\"\"\n",
      "    fig, ax = plt.subplots(1, 1, figsize=figsize)\n",
      "    ssh = grid_T.variables['sossheig']\n",
      "    results_date = nc_tools.timestamp(grid_T, 0).format('YYYY-MM-DD')\n",
      "    ax.plot(ssh[:, 468, 328], 'o')\n",
      "    ax.set_xlim(0, 23)\n",
      "    ax.set_xlabel('UTC Hour on {}'.format(results_date))\n",
      "    ax.set_ylabel('{label} [{units}]'.format(label=ssh.long_name.title(), units=ssh.units))\n",
      "    ax.grid()\n",
      "    ax.set_title('Pt. Atkinson Hourly Sea Surface Height on {}'.format(results_date))\n",
      "    return fig\n"
     ],
     "language": "python",
     "metadata": {},
     "outputs": [],
     "prompt_number": 19
    },
    {
     "cell_type": "heading",
     "level": 3,
     "metadata": {},
     "source": [
      "Function Driver"
     ]
    },
    {
     "cell_type": "code",
     "collapsed": false,
     "input": [
      "grid_T = nc.Dataset(\n",
      "    os.path.expanduser('~/MEOPAR/downloaded_results/SalishSea/nowcast/30oct14/SalishSea_1h_20141030_20141030_grid_T.nc'))\n",
      "\n",
      "fig = ssh_PtAtkinson(grid_T)"
     ],
     "language": "python",
     "metadata": {},
     "outputs": [
      {
       "metadata": {},
       "output_type": "display_data",
       "png": "[encoded data removed]",
       "text": [
        "<matplotlib.figure.Figure at 0x7f874ec8ac10>"
       ]
      }
     ],
     "prompt_number": 20
    },
    {
     "cell_type": "code",
     "collapsed": false,
     "input": [
      "ax = fig.axes[0]"
     ],
     "language": "python",
     "metadata": {},
     "outputs": [],
     "prompt_number": 12
    },
    {
     "cell_type": "code",
     "collapsed": false,
     "input": [
      "ax.set_axis_bgcolor('#2b3e50')"
     ],
     "language": "python",
     "metadata": {},
     "outputs": [],
     "prompt_number": 13
    },
    {
     "cell_type": "code",
     "collapsed": false,
     "input": [
      "fig.set_facecolor('#2b3e50')"
     ],
     "language": "python",
     "metadata": {},
     "outputs": [],
     "prompt_number": 14
    },
    {
     "cell_type": "code",
     "collapsed": false,
     "input": [
      "fig"
     ],
     "language": "python",
     "metadata": {},
     "outputs": [
      {
       "metadata": {},
       "output_type": "pyout",
       "png": "[encoded data removed]",
       "prompt_number": 15,
       "text": [
        "<matplotlib.figure.Figure at 0x7f877a1f2fd0>"
       ]
      }
     ],
     "prompt_number": 15
    },
    {
     "cell_type": "code",
     "collapsed": false,
     "input": [],
     "language": "python",
     "metadata": {},
     "outputs": []
    }
   ],
   "metadata": {}
  }
 ]
}
