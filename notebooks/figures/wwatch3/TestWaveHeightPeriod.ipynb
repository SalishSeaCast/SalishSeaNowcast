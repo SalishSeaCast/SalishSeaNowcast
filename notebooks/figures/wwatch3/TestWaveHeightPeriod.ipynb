{
 "cells": [
  {
   "cell_type": "markdown",
   "metadata": {},
   "source": [
    "# Test `wave_height_period` Figure Module\n",
    "\n",
    "Render figure object produced by the `nowcast.figures.wwatch3.wave_height_period` module.\n",
    "Provides data for visual testing to confirm that refactoring has not adversely changed figure for web page.\n",
    "\n",
    "Set-up and function call replicates as nearly as possible what is done in the `nowcast.workers.make_plots` worker."
   ]
  },
  {
   "cell_type": "markdown",
   "metadata": {},
   "source": [
    "Notebooks like this should be developed in a\n",
    "[Nowcast Figures Development Environment](https://salishsea-nowcast.readthedocs.io/en/latest/figures/fig_dev_env.html)\n",
    "so that all of the necessary dependency packages are installed.\n",
    "The development has to be done on a workstation that has the Salish Sea Nowcast system `/results/` parition mounted."
   ]
  },
  {
   "cell_type": "code",
   "execution_count": 4,
   "metadata": {},
   "outputs": [],
   "source": [
    "import io\n",
    "from pathlib import Path\n",
    "\n",
    "import yaml\n",
    "\n",
    "from nowcast.figures.wwatch3 import wave_height_period"
   ]
  },
  {
   "cell_type": "code",
   "execution_count": 2,
   "metadata": {},
   "outputs": [],
   "source": [
    "%matplotlib inline"
   ]
  },
  {
   "cell_type": "markdown",
   "metadata": {},
   "source": [
    "The bits of `config/nowcast.yaml` that are required:"
   ]
  },
  {
   "cell_type": "code",
   "execution_count": 3,
   "metadata": {},
   "outputs": [],
   "source": [
    "config = '''\n",
    "    figures:\n",
    "        dataset URLs:\n",
    "            HRDPS fields: https://salishsea.eos.ubc.ca/erddap/griddap/ubcSSaSurfaceAtmosphereFieldsV1\n",
    "            tide stn ssh time series:\n",
    "                # **Must be quoted to project {} characters**\n",
    "                'https://salishsea.eos.ubc.ca/erddap/griddap/ubcSSf{place}SSH10mV17-02'\n",
    "                \n",
    "    vhfr fvcom runs:\n",
    "        ssh dataset filename: vhfr_low_v2_station_timeseries.nc\n",
    "        results archive:\n",
    "            nowcast: /opp/fvcom/nowcast/\n",
    "'''\n",
    "\n",
    "config = yaml.load(io.StringIO(config))"
   ]
  },
  {
   "cell_type": "markdown",
   "metadata": {},
   "source": [
    "The bits that the `make_figures` worker must provide:"
   ]
  },
  {
   "cell_type": "code",
   "execution_count": null,
   "metadata": {},
   "outputs": [],
   "source": []
  }
 ],
 "metadata": {
  "kernelspec": {
   "display_name": "Python 3",
   "language": "python",
   "name": "python3"
  },
  "language_info": {
   "codemirror_mode": {
    "name": "ipython",
    "version": 3
   },
   "file_extension": ".py",
   "mimetype": "text/x-python",
   "name": "python",
   "nbconvert_exporter": "python",
   "pygments_lexer": "ipython3",
   "version": "3.6.3"
  }
 },
 "nbformat": 4,
 "nbformat_minor": 2
}
