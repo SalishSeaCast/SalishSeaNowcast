{
 "cells": [
  {
   "cell_type": "markdown",
   "metadata": {},
   "source": [
    "# Test `surface_currents` Module\n",
    "\n",
    "Render figure object produced by the `nowcast.figures.fvcom.surface_currents` module.\n",
    "Provides data for visual testing to confirm that refactoring has not adversely changed figure for web page.\n",
    "\n",
    "Set-up and function call replicates as nearly as possible what is done in the `nowcast.workers.make_plots` worker."
   ]
  },
  {
   "cell_type": "markdown",
   "metadata": {},
   "source": [
    "Notebooks like this should be developed in a\n",
    "[Nowcast Figures Development Environment](https://salishsea-nowcast.readthedocs.io/en/latest/figures/fig_dev_env.html)\n",
    "so that all of the necessary dependency packages are installed.\n",
    "The development has to be done on a workstation that has the Vancouver Harbour & Fraser River FVCOM model results `/opp/` parition mounted."
   ]
  },
  {
   "cell_type": "code",
   "execution_count": 1,
   "metadata": {},
   "outputs": [
    {
     "ename": "ModuleNotFoundError",
     "evalue": "No module named 'OPPTools'",
     "output_type": "error",
     "traceback": [
      "\u001b[0;31m---------------------------------------------------------------------------\u001b[0m",
      "\u001b[0;31mModuleNotFoundError\u001b[0m                       Traceback (most recent call last)",
      "\u001b[0;32m<ipython-input-1-f2dc079d7a02>\u001b[0m in \u001b[0;36m<module>\u001b[0;34m()\u001b[0m\n\u001b[1;32m      6\u001b[0m \u001b[0;32mimport\u001b[0m \u001b[0myaml\u001b[0m\u001b[0;34m\u001b[0m\u001b[0m\n\u001b[1;32m      7\u001b[0m \u001b[0;34m\u001b[0m\u001b[0m\n\u001b[0;32m----> 8\u001b[0;31m \u001b[0;32mfrom\u001b[0m \u001b[0mnowcast\u001b[0m\u001b[0;34m.\u001b[0m\u001b[0mfigures\u001b[0m\u001b[0;34m.\u001b[0m\u001b[0mfvcom\u001b[0m\u001b[0;34m.\u001b[0m\u001b[0mresearch\u001b[0m \u001b[0;32mimport\u001b[0m \u001b[0msurface_currents\u001b[0m\u001b[0;34m\u001b[0m\u001b[0m\n\u001b[0m",
      "\u001b[0;32m/media/doug/warehouse/MEOPAR/SalishSeaNowcast/nowcast/figures/fvcom/research/surface_currents.py\u001b[0m in \u001b[0;36m<module>\u001b[0;34m()\u001b[0m\n\u001b[1;32m     30\u001b[0m \u001b[0;32mimport\u001b[0m \u001b[0mnowcast\u001b[0m\u001b[0;34m.\u001b[0m\u001b[0mfigures\u001b[0m\u001b[0;34m.\u001b[0m\u001b[0mwebsite_theme\u001b[0m\u001b[0;34m\u001b[0m\u001b[0m\n\u001b[1;32m     31\u001b[0m \u001b[0;34m\u001b[0m\u001b[0m\n\u001b[0;32m---> 32\u001b[0;31m \u001b[0;32mfrom\u001b[0m \u001b[0mOPPTools\u001b[0m\u001b[0;34m.\u001b[0m\u001b[0mgeneral_utilities\u001b[0m \u001b[0;32mimport\u001b[0m \u001b[0mgeometry\u001b[0m \u001b[0;32mas\u001b[0m \u001b[0mmgeom\u001b[0m\u001b[0;34m\u001b[0m\u001b[0m\n\u001b[0m\u001b[1;32m     33\u001b[0m \u001b[0;32mfrom\u001b[0m \u001b[0mOPPTools\u001b[0m\u001b[0;34m.\u001b[0m\u001b[0mutils\u001b[0m \u001b[0;32mimport\u001b[0m \u001b[0mfvcom_postprocess\u001b[0m \u001b[0;32mas\u001b[0m \u001b[0mfpp\u001b[0m\u001b[0;34m\u001b[0m\u001b[0m\n\u001b[1;32m     34\u001b[0m \u001b[0;34m\u001b[0m\u001b[0m\n",
      "\u001b[0;31mModuleNotFoundError\u001b[0m: No module named 'OPPTools'"
     ]
    }
   ],
   "source": [
    "import io\n",
    "from pathlib import Path\n",
    "\n",
    "import arrow\n",
    "import netCDF4\n",
    "import yaml\n",
    "\n",
    "from nowcast.figures.fvcom.research import surface_currents"
   ]
  },
  {
   "cell_type": "code",
   "execution_count": null,
   "metadata": {},
   "outputs": [],
   "source": [
    "%matplotlib inline"
   ]
  },
  {
   "cell_type": "markdown",
   "metadata": {},
   "source": [
    "The bits of `config/nowcast.yaml` that are required:"
   ]
  },
  {
   "cell_type": "code",
   "execution_count": null,
   "metadata": {},
   "outputs": [],
   "source": [
    "config = '''\n",
    "    vhfr fvcom runs:\n",
    "        results archive:\n",
    "            nowcast x2: /opp/fvcom/nowcast-x2/\n",
    "'''\n",
    "\n",
    "config = yaml.load(io.StringIO(config))"
   ]
  },
  {
   "cell_type": "markdown",
   "metadata": {},
   "source": [
    "The bits that the `make_plots` worker must provide:"
   ]
  },
  {
   "cell_type": "code",
   "execution_count": null,
   "metadata": {},
   "outputs": [],
   "source": [
    "run_date = arrow.get('2019-02-27')\n",
    "model_config = 'x2'\n",
    "run_type = 'nowcast'\n",
    "\n",
    "ddmmmyy = run_date.format('DDMMMYY').lower()\n",
    "results_dir = Path(\n",
    "    config[\"vhfr fvcom runs\"][\"results archive\"][f\"{run_type} {model_config}\"], ddmmmyy\n",
    ")\n",
    "fvcom_results_dataset = netCDF4.Dataset(results_dir/f\"vh_{model_config}_0001.nc\")"
   ]
  },
  {
   "cell_type": "markdown",
   "metadata": {},
   "source": [
    "## Render the Figure\n",
    "\n",
    "One time step, and one section for quickest testing:"
   ]
  },
  {
   "cell_type": "code",
   "execution_count": null,
   "metadata": {
    "scrolled": false
   },
   "outputs": [],
   "source": [
    "%%timeit -n1 -r1\n",
    "\n",
    "from importlib import reload\n",
    "reload(surface_currents)\n",
    "\n",
    "names = {\n",
    "    \"English Bay\": \"EnglishBay_surface_currents\",\n",
    "    \"Vancouver Harbour\": \"VancouverHarbour_surface_currents\",\n",
    "    \"Indian Arm\": \"IndianArm_surface_currents\",\n",
    "}\n",
    "time_index = 0\n",
    "fig = surface_currents.make_figure(\n",
    "    \"Vancouver Harbour\", time_index, fvcom_results_dataset\n",
    ")"
   ]
  },
  {
   "cell_type": "markdown",
   "metadata": {},
   "source": [
    "All sections:"
   ]
  },
  {
   "cell_type": "code",
   "execution_count": null,
   "metadata": {
    "scrolled": false
   },
   "outputs": [],
   "source": [
    "%%timeit -n1 -r1\n",
    "\n",
    "from importlib import reload\n",
    "reload(surface_currents)\n",
    "\n",
    "names = {\n",
    "    \"English Bay\": \"EnglishBay_surface_currents\",\n",
    "    \"Vancouver Harbour\": \"VancouverHarbour_surface_currents\",\n",
    "    \"Indian Arm\": \"IndianArm_surface_currents\",\n",
    "}\n",
    "time_index = 0\n",
    "for place in names:\n",
    "    fig = surface_currents.make_figure(\n",
    "        place, time_index, fvcom_results_dataset\n",
    "    )"
   ]
  }
 ],
 "metadata": {
  "kernelspec": {
   "display_name": "Python 3",
   "language": "python",
   "name": "python3"
  },
  "language_info": {
   "codemirror_mode": {
    "name": "ipython",
    "version": 3
   },
   "file_extension": ".py",
   "mimetype": "text/x-python",
   "name": "python",
   "nbconvert_exporter": "python",
   "pygments_lexer": "ipython3",
   "version": "3.6.3"
  }
 },
 "nbformat": 4,
 "nbformat_minor": 2
}
