{
 "cells": [
  {
   "cell_type": "markdown",
   "metadata": {},
   "source": [
    "## Code to make old runoff files ##\n",
    "note: make_old_runoffs.yaml is identical to nowcast.yaml but puts the river output files somewhere other that /results to avoid accidental overwriting"
   ]
  },
  {
   "cell_type": "code",
   "execution_count": 22,
   "metadata": {
    "collapsed": false
   },
   "outputs": [],
   "source": [
    "import arrow\n",
    "from nowcast.workers import make_runoff_file\n",
    "from types import SimpleNamespace\n",
    "import yaml"
   ]
  },
  {
   "cell_type": "code",
   "execution_count": 25,
   "metadata": {
    "collapsed": true
   },
   "outputs": [],
   "source": [
    "start = arrow.get(2014, 9, 30)\n",
    "end = arrow.get(2015, 1, 1)\n",
    "with open('../config/make_old_runoffs.yaml', 'rt') as f:\n",
    "    config = yaml.safe_load(f)"
   ]
  },
  {
   "cell_type": "code",
   "execution_count": 26,
   "metadata": {
    "collapsed": false
   },
   "outputs": [
    {
     "name": "stdout",
     "output_type": "stream",
     "text": [
      "{'long': '/data/sallen/MEOPAR/forcing/RLonFraCElse_y2014m09d29.nc'}\n",
      "{'long': '/data/sallen/MEOPAR/forcing/RLonFraCElse_y2014m09d30.nc'}\n",
      "{'long': '/data/sallen/MEOPAR/forcing/RLonFraCElse_y2014m10d01.nc'}\n",
      "{'long': '/data/sallen/MEOPAR/forcing/RLonFraCElse_y2014m10d02.nc'}\n",
      "{'long': '/data/sallen/MEOPAR/forcing/RLonFraCElse_y2014m10d03.nc'}\n",
      "{'long': '/data/sallen/MEOPAR/forcing/RLonFraCElse_y2014m10d04.nc'}\n",
      "{'long': '/data/sallen/MEOPAR/forcing/RLonFraCElse_y2014m10d05.nc'}\n",
      "{'long': '/data/sallen/MEOPAR/forcing/RLonFraCElse_y2014m10d06.nc'}\n",
      "{'long': '/data/sallen/MEOPAR/forcing/RLonFraCElse_y2014m10d07.nc'}\n",
      "{'long': '/data/sallen/MEOPAR/forcing/RLonFraCElse_y2014m10d08.nc'}\n",
      "{'long': '/data/sallen/MEOPAR/forcing/RLonFraCElse_y2014m10d09.nc'}\n",
      "{'long': '/data/sallen/MEOPAR/forcing/RLonFraCElse_y2014m10d10.nc'}\n",
      "{'long': '/data/sallen/MEOPAR/forcing/RLonFraCElse_y2014m10d11.nc'}\n",
      "{'long': '/data/sallen/MEOPAR/forcing/RLonFraCElse_y2014m10d12.nc'}\n",
      "{'long': '/data/sallen/MEOPAR/forcing/RLonFraCElse_y2014m10d13.nc'}\n",
      "{'long': '/data/sallen/MEOPAR/forcing/RLonFraCElse_y2014m10d14.nc'}\n",
      "{'long': '/data/sallen/MEOPAR/forcing/RLonFraCElse_y2014m10d15.nc'}\n",
      "{'long': '/data/sallen/MEOPAR/forcing/RLonFraCElse_y2014m10d16.nc'}\n",
      "{'long': '/data/sallen/MEOPAR/forcing/RLonFraCElse_y2014m10d17.nc'}\n",
      "{'long': '/data/sallen/MEOPAR/forcing/RLonFraCElse_y2014m10d18.nc'}\n",
      "{'long': '/data/sallen/MEOPAR/forcing/RLonFraCElse_y2014m10d19.nc'}\n",
      "{'long': '/data/sallen/MEOPAR/forcing/RLonFraCElse_y2014m10d20.nc'}\n",
      "{'long': '/data/sallen/MEOPAR/forcing/RLonFraCElse_y2014m10d21.nc'}\n",
      "{'long': '/data/sallen/MEOPAR/forcing/RLonFraCElse_y2014m10d22.nc'}\n",
      "{'long': '/data/sallen/MEOPAR/forcing/RLonFraCElse_y2014m10d23.nc'}\n",
      "{'long': '/data/sallen/MEOPAR/forcing/RLonFraCElse_y2014m10d24.nc'}\n",
      "{'long': '/data/sallen/MEOPAR/forcing/RLonFraCElse_y2014m10d25.nc'}\n",
      "{'long': '/data/sallen/MEOPAR/forcing/RLonFraCElse_y2014m10d26.nc'}\n",
      "{'long': '/data/sallen/MEOPAR/forcing/RLonFraCElse_y2014m10d27.nc'}\n",
      "{'long': '/data/sallen/MEOPAR/forcing/RLonFraCElse_y2014m10d28.nc'}\n",
      "{'long': '/data/sallen/MEOPAR/forcing/RLonFraCElse_y2014m10d29.nc'}\n",
      "{'long': '/data/sallen/MEOPAR/forcing/RLonFraCElse_y2014m10d30.nc'}\n",
      "{'long': '/data/sallen/MEOPAR/forcing/RLonFraCElse_y2014m10d31.nc'}\n",
      "{'long': '/data/sallen/MEOPAR/forcing/RLonFraCElse_y2014m11d01.nc'}\n",
      "{'long': '/data/sallen/MEOPAR/forcing/RLonFraCElse_y2014m11d02.nc'}\n",
      "{'long': '/data/sallen/MEOPAR/forcing/RLonFraCElse_y2014m11d03.nc'}\n",
      "{'long': '/data/sallen/MEOPAR/forcing/RLonFraCElse_y2014m11d04.nc'}\n",
      "{'long': '/data/sallen/MEOPAR/forcing/RLonFraCElse_y2014m11d05.nc'}\n",
      "{'long': '/data/sallen/MEOPAR/forcing/RLonFraCElse_y2014m11d06.nc'}\n",
      "{'long': '/data/sallen/MEOPAR/forcing/RLonFraCElse_y2014m11d07.nc'}\n",
      "{'long': '/data/sallen/MEOPAR/forcing/RLonFraCElse_y2014m11d08.nc'}\n",
      "{'long': '/data/sallen/MEOPAR/forcing/RLonFraCElse_y2014m11d09.nc'}\n",
      "{'long': '/data/sallen/MEOPAR/forcing/RLonFraCElse_y2014m11d10.nc'}\n",
      "{'long': '/data/sallen/MEOPAR/forcing/RLonFraCElse_y2014m11d11.nc'}\n",
      "{'long': '/data/sallen/MEOPAR/forcing/RLonFraCElse_y2014m11d12.nc'}\n",
      "{'long': '/data/sallen/MEOPAR/forcing/RLonFraCElse_y2014m11d13.nc'}\n",
      "{'long': '/data/sallen/MEOPAR/forcing/RLonFraCElse_y2014m11d14.nc'}\n",
      "{'long': '/data/sallen/MEOPAR/forcing/RLonFraCElse_y2014m11d15.nc'}\n",
      "{'long': '/data/sallen/MEOPAR/forcing/RLonFraCElse_y2014m11d16.nc'}\n",
      "{'long': '/data/sallen/MEOPAR/forcing/RLonFraCElse_y2014m11d17.nc'}\n",
      "{'long': '/data/sallen/MEOPAR/forcing/RLonFraCElse_y2014m11d18.nc'}\n",
      "{'long': '/data/sallen/MEOPAR/forcing/RLonFraCElse_y2014m11d19.nc'}\n",
      "{'long': '/data/sallen/MEOPAR/forcing/RLonFraCElse_y2014m11d20.nc'}\n",
      "{'long': '/data/sallen/MEOPAR/forcing/RLonFraCElse_y2014m11d21.nc'}\n",
      "{'long': '/data/sallen/MEOPAR/forcing/RLonFraCElse_y2014m11d22.nc'}\n",
      "{'long': '/data/sallen/MEOPAR/forcing/RLonFraCElse_y2014m11d23.nc'}\n",
      "{'long': '/data/sallen/MEOPAR/forcing/RLonFraCElse_y2014m11d24.nc'}\n",
      "{'long': '/data/sallen/MEOPAR/forcing/RLonFraCElse_y2014m11d25.nc'}\n",
      "{'long': '/data/sallen/MEOPAR/forcing/RLonFraCElse_y2014m11d26.nc'}\n",
      "{'long': '/data/sallen/MEOPAR/forcing/RLonFraCElse_y2014m11d27.nc'}\n",
      "{'long': '/data/sallen/MEOPAR/forcing/RLonFraCElse_y2014m11d28.nc'}\n",
      "{'long': '/data/sallen/MEOPAR/forcing/RLonFraCElse_y2014m11d29.nc'}\n",
      "{'long': '/data/sallen/MEOPAR/forcing/RLonFraCElse_y2014m11d30.nc'}\n",
      "{'long': '/data/sallen/MEOPAR/forcing/RLonFraCElse_y2014m12d01.nc'}\n",
      "{'long': '/data/sallen/MEOPAR/forcing/RLonFraCElse_y2014m12d02.nc'}\n",
      "{'long': '/data/sallen/MEOPAR/forcing/RLonFraCElse_y2014m12d03.nc'}\n",
      "{'long': '/data/sallen/MEOPAR/forcing/RLonFraCElse_y2014m12d04.nc'}\n",
      "{'long': '/data/sallen/MEOPAR/forcing/RLonFraCElse_y2014m12d05.nc'}\n",
      "{'long': '/data/sallen/MEOPAR/forcing/RLonFraCElse_y2014m12d06.nc'}\n",
      "{'long': '/data/sallen/MEOPAR/forcing/RLonFraCElse_y2014m12d07.nc'}\n",
      "{'long': '/data/sallen/MEOPAR/forcing/RLonFraCElse_y2014m12d08.nc'}\n",
      "{'long': '/data/sallen/MEOPAR/forcing/RLonFraCElse_y2014m12d09.nc'}\n",
      "{'long': '/data/sallen/MEOPAR/forcing/RLonFraCElse_y2014m12d10.nc'}\n",
      "{'long': '/data/sallen/MEOPAR/forcing/RLonFraCElse_y2014m12d11.nc'}\n",
      "{'long': '/data/sallen/MEOPAR/forcing/RLonFraCElse_y2014m12d12.nc'}\n",
      "{'long': '/data/sallen/MEOPAR/forcing/RLonFraCElse_y2014m12d13.nc'}\n",
      "{'long': '/data/sallen/MEOPAR/forcing/RLonFraCElse_y2014m12d14.nc'}\n",
      "{'long': '/data/sallen/MEOPAR/forcing/RLonFraCElse_y2014m12d15.nc'}\n",
      "{'long': '/data/sallen/MEOPAR/forcing/RLonFraCElse_y2014m12d16.nc'}\n",
      "{'long': '/data/sallen/MEOPAR/forcing/RLonFraCElse_y2014m12d17.nc'}\n",
      "{'long': '/data/sallen/MEOPAR/forcing/RLonFraCElse_y2014m12d18.nc'}\n",
      "{'long': '/data/sallen/MEOPAR/forcing/RLonFraCElse_y2014m12d19.nc'}\n",
      "{'long': '/data/sallen/MEOPAR/forcing/RLonFraCElse_y2014m12d20.nc'}\n",
      "{'long': '/data/sallen/MEOPAR/forcing/RLonFraCElse_y2014m12d21.nc'}\n",
      "{'long': '/data/sallen/MEOPAR/forcing/RLonFraCElse_y2014m12d22.nc'}\n",
      "{'long': '/data/sallen/MEOPAR/forcing/RLonFraCElse_y2014m12d23.nc'}\n",
      "{'long': '/data/sallen/MEOPAR/forcing/RLonFraCElse_y2014m12d24.nc'}\n",
      "{'long': '/data/sallen/MEOPAR/forcing/RLonFraCElse_y2014m12d25.nc'}\n",
      "{'long': '/data/sallen/MEOPAR/forcing/RLonFraCElse_y2014m12d26.nc'}\n",
      "{'long': '/data/sallen/MEOPAR/forcing/RLonFraCElse_y2014m12d27.nc'}\n",
      "{'long': '/data/sallen/MEOPAR/forcing/RLonFraCElse_y2014m12d28.nc'}\n",
      "{'long': '/data/sallen/MEOPAR/forcing/RLonFraCElse_y2014m12d29.nc'}\n",
      "{'long': '/data/sallen/MEOPAR/forcing/RLonFraCElse_y2014m12d30.nc'}\n",
      "{'long': '/data/sallen/MEOPAR/forcing/RLonFraCElse_y2014m12d31.nc'}\n"
     ]
    }
   ],
   "source": [
    "for day in arrow.Arrow.range('day', start, end):\n",
    "    args = SimpleNamespace(run_date=day)\n",
    "    checklist = make_runoff_file.make_runoff_file(args, config)\n",
    "    print (checklist)"
   ]
  },
  {
   "cell_type": "code",
   "execution_count": null,
   "metadata": {
    "collapsed": true
   },
   "outputs": [],
   "source": []
  }
 ],
 "metadata": {
  "kernelspec": {
   "display_name": "Python 3",
   "language": "python",
   "name": "python3"
  },
  "language_info": {
   "codemirror_mode": {
    "name": "ipython",
    "version": 3
   },
   "file_extension": ".py",
   "mimetype": "text/x-python",
   "name": "python",
   "nbconvert_exporter": "python",
   "pygments_lexer": "ipython3",
   "version": "3.5.2"
  }
 },
 "nbformat": 4,
 "nbformat_minor": 2
}
